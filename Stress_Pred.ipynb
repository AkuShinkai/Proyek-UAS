{
 "cells": [
  {
   "cell_type": "code",
   "execution_count": 7,
   "id": "e559bd3d",
   "metadata": {},
   "outputs": [
    {
     "name": "stdout",
     "output_type": "stream",
     "text": [
      "<class 'pandas.core.frame.DataFrame'>\n",
      "RangeIndex: 374 entries, 0 to 373\n",
      "Data columns (total 13 columns):\n",
      " #   Column                   Non-Null Count  Dtype  \n",
      "---  ------                   --------------  -----  \n",
      " 0   Person ID                374 non-null    int64  \n",
      " 1   Gender                   374 non-null    object \n",
      " 2   Age                      374 non-null    int64  \n",
      " 3   Occupation               374 non-null    object \n",
      " 4   Sleep Duration           374 non-null    float64\n",
      " 5   Quality of Sleep         374 non-null    int64  \n",
      " 6   Physical Activity Level  374 non-null    int64  \n",
      " 7   Stress Level             374 non-null    int64  \n",
      " 8   BMI Category             374 non-null    object \n",
      " 9   Blood Pressure           374 non-null    object \n",
      " 10  Heart Rate               374 non-null    int64  \n",
      " 11  Daily Steps              374 non-null    int64  \n",
      " 12  Sleep Disorder           155 non-null    object \n",
      "dtypes: float64(1), int64(7), object(5)\n",
      "memory usage: 38.1+ KB\n"
     ]
    }
   ],
   "source": [
    "data = pd.read_csv('Sleep_health_and_lifestyle_dataset.csv')\n",
    "data.info()"
   ]
  },
  {
   "cell_type": "code",
   "execution_count": 14,
   "id": "fb76d7bc",
   "metadata": {},
   "outputs": [
    {
     "name": "stdout",
     "output_type": "stream",
     "text": [
      "Training R^2: 0.9963814015572858\n",
      "Training MSE: 0.01128026755852843\n",
      "Test R^2: 0.9901468077842267\n",
      "Test MSE: 0.03078400000000002\n",
      "Model and encoders saved successfully!\n"
     ]
    }
   ],
   "source": [
    "import pandas as pd\n",
    "from sklearn.model_selection import train_test_split\n",
    "from sklearn.preprocessing import LabelEncoder, StandardScaler\n",
    "from sklearn.pipeline import Pipeline\n",
    "from sklearn.ensemble import RandomForestRegressor\n",
    "from sklearn import metrics\n",
    "import joblib\n",
    "\n",
    "# Load dataset\n",
    "data = pd.read_csv('Sleep_health_and_lifestyle_dataset.csv')\n",
    "\n",
    "# 1. Mengonversi kolom 'Blood Pressure' menjadi dua kolom terpisah\n",
    "data[['Systolic', 'Diastolic']] = data['Blood Pressure'].str.split('/', expand=True)\n",
    "\n",
    "# 2. Ubah tipe data kolom 'Systolic' dan 'Diastolic' menjadi numerik\n",
    "data['Systolic'] = pd.to_numeric(data['Systolic'], errors='coerce')\n",
    "data['Diastolic'] = pd.to_numeric(data['Diastolic'], errors='coerce')\n",
    "\n",
    "# 3. Drop kolom 'Blood Pressure' yang sudah tidak diperlukan lagi\n",
    "data = data.drop(columns=['Blood Pressure'])\n",
    "\n",
    "# Encoding categorical features\n",
    "label_encoders = {}\n",
    "categorical_columns = ['Gender', 'Occupation', 'BMI Category', 'Sleep Disorder']\n",
    "for column in categorical_columns:\n",
    "    le = LabelEncoder()\n",
    "    data[column] = le.fit_transform(data[column].astype(str))  # Encoding string ke numerik\n",
    "    label_encoders[column] = le\n",
    "\n",
    "# Selecting features and target\n",
    "X = data.drop(['Person ID', 'Stress Level'], axis=1)\n",
    "y = data['Stress Level']\n",
    "\n",
    "# Splitting the dataset\n",
    "X_train, X_test, y_train, y_test = train_test_split(X, y, test_size=0.2, random_state=42)\n",
    "\n",
    "# Building the pipeline\n",
    "pipeline = Pipeline([\n",
    "    ('scaler', StandardScaler()),\n",
    "    ('model', RandomForestRegressor(random_state=42))\n",
    "])\n",
    "\n",
    "# Training the model\n",
    "pipeline.fit(X_train, y_train)\n",
    "\n",
    "# Model performance on training data\n",
    "train_predictions = pipeline.predict(X_train)\n",
    "train_r2 = metrics.r2_score(y_train, train_predictions)\n",
    "train_mse = metrics.mean_squared_error(y_train, train_predictions)\n",
    "\n",
    "# Model performance on test data\n",
    "test_predictions = pipeline.predict(X_test)\n",
    "test_r2 = metrics.r2_score(y_test, test_predictions)\n",
    "test_mse = metrics.mean_squared_error(y_test, test_predictions)\n",
    "\n",
    "# Printing performance results\n",
    "print(\"Training R^2:\", train_r2)\n",
    "print(\"Training MSE:\", train_mse)\n",
    "print(\"Test R^2:\", test_r2)\n",
    "print(\"Test MSE:\", test_mse)\n",
    "\n",
    "# Saving the pipeline\n",
    "joblib.dump(pipeline, 'stress_predictor_pipeline.pkl')\n",
    "\n",
    "# Saving label encoders for categorical columns\n",
    "joblib.dump(label_encoders, 'label_encoders.pkl')\n",
    "\n",
    "print(\"Model and encoders saved successfully!\")\n"
   ]
  },
  {
   "cell_type": "code",
   "execution_count": null,
   "id": "c82743ec",
   "metadata": {},
   "outputs": [],
   "source": []
  }
 ],
 "metadata": {
  "kernelspec": {
   "display_name": "Python 3 (ipykernel)",
   "language": "python",
   "name": "python3"
  },
  "language_info": {
   "codemirror_mode": {
    "name": "ipython",
    "version": 3
   },
   "file_extension": ".py",
   "mimetype": "text/x-python",
   "name": "python",
   "nbconvert_exporter": "python",
   "pygments_lexer": "ipython3",
   "version": "3.11.5"
  }
 },
 "nbformat": 4,
 "nbformat_minor": 5
}
